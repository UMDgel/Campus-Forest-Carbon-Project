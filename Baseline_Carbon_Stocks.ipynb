{
 "cells": [
  {
   "cell_type": "markdown",
   "metadata": {},
   "source": [
    "# Carbon Baseline Template (Appendix B.2)"
   ]
  },
  {
   "cell_type": "raw",
   "metadata": {},
   "source": [
    "Before you begin editing this template, create a copy and edit the copy instead!\n",
    "This model will output baseline values in Metric Tons of Carbon (Mg C)"
   ]
  },
  {
   "cell_type": "code",
   "execution_count": null,
   "metadata": {},
   "outputs": [],
   "source": [
    "#To set up your workspace, use your specified filepath\n",
    "#Be sure to change all directory and file names to your own"
   ]
  },
  {
   "cell_type": "code",
   "execution_count": null,
   "metadata": {},
   "outputs": [],
   "source": [
    "#Import the necessary modules after setting up your workspace\n",
    "#This block of code needs to be run first everytime you open this python file, otherwise you will recieve an error\n",
    "\n",
    "import arcpy \n",
    "from arcpy import env\n",
    "from arcpy.sa import *\n",
    "import os\n",
    "from osgeo import gdal\n",
    "\n",
    "arcpy.CheckOutExtension('Spatial')\n",
    "arcpy.env.overwriteOutput = True\n",
    "arcpy.env.workspace = r'Y:\\my_file_path\\carbon_baseline_results' # write the filepath where you will save your results"
   ]
  },
  {
   "cell_type": "markdown",
   "metadata": {},
   "source": [
    "# Pre-processing Step"
   ]
  },
  {
   "cell_type": "code",
   "execution_count": null,
   "metadata": {},
   "outputs": [],
   "source": [
    "#This block of code will convert files to 30-meter resolution and NAD_1983_UTM_Zone_18N (26918) projection\n",
    "\n",
    "raster_list = arcpy.ListRasters(\"*\")\n",
    "\n",
    "count = 2 # two data layers that represent the start and end year (50 years in the future)\n",
    "for raster in raster_list:\n",
    "    if raster.startswith('ED'): \n",
    "        count = count\n",
    "        filename = r'Y:\\my_file_path\\carbon_baseline_results\\ED_AGB_growth_forested_20{}.tif'.format(count) # write your filepath including the name of the input file, be sure to include the \"20\" to specifiy the start year\n",
    "        input_raster = gdal.Open(filename)\n",
    "        output_raster = r'Y:\\my_file_path\\carbon_baseline_results\\output_file_20{}.tif'.format(count) # write your filepath and  name of processed output file with the start year \n",
    "        gdal.Warp(output_raster, input_raster, dstSRS='EPSG:26918', xRes= '30', yRes='30')\n",
    "        count = count + 1"
   ]
  },
  {
   "cell_type": "markdown",
   "metadata": {},
   "source": [
    "# Calculating Carbon Baseline "
   ]
  },
  {
   "cell_type": "code",
   "execution_count": null,
   "metadata": {},
   "outputs": [],
   "source": [
    "#Step 1: Extract layers to boundary\n",
    "\n",
    "arcpy.env.workspace = r'Y:\\my_file_path\\carbon_baseline_results' # define specific file path \n",
    "raster_list = arcpy.ListRasters(\"*\")\n",
    "\n",
    "count = 2\n",
    "for raster in raster_list:\n",
    "    if raster.startswith('output'): # name as first word of of the pre-processed output file\n",
    "        count = count\n",
    "        input_raster = r'output_file_20{}.tif'.format(count) # name input as your pre-processed output file\n",
    "        boundary = r\"boundary.shp\" # rename as your boundary layer \n",
    "        Mask = ExtractByMask(input_raster, boundary)\n",
    "        Mask.save(r'Y:\\my_file_path\\carbon_baseline_results\\S1_file_20{}.tif'.format(count)) # write your file path to save baseline results and the Step 1 output file name, be sure to include the \"20\" so the output results save the baseline for each year  \n",
    "        count = count + 1"
   ]
  },
  {
   "cell_type": "code",
   "execution_count": null,
   "metadata": {},
   "outputs": [],
   "source": [
    "#Step 2: Raster to point\n",
    "\n",
    "arcpy.env.workspace = r'Y:\\my_file_path\\carbon_baseline_results' # define specific file path for baseline results\n",
    "raster_list = arcpy.ListRasters(\"*\")\n",
    "\n",
    "count = 2\n",
    "for raster in raster_list:\n",
    "    if raster.startswith('S1'): # name as first word of the output file from Step 1\n",
    "        count = count\n",
    "        source = 'S1_file_20{}.tif'.format(count)\n",
    "        output = 'S2_file_20{}.shp'.format(count) # name the file output for this step\n",
    "        arcpy.RasterToPoint_conversion(source, output, \"VALUE\")\n",
    "        count = count + 1"
   ]
  },
  {
   "cell_type": "code",
   "execution_count": null,
   "metadata": {},
   "outputs": [],
   "source": [
    "#Step 3: Calculation (conversion from Kg C/m2 to Mg C)\n",
    "\n",
    "arcpy.env.workspace = r'Y:\\my_file_path\\carbon_baseline_results' # define specific file path for baseline results\n",
    "expression = '(!grid_code! * 20 * 0.09 * 0.5)'\n",
    "field = \"SUM_MgC\"\n",
    "\n",
    "path =r'Y:\\my_file_path\\carbon_monitoring_results\\stock_results' \n",
    "list_of_files = os.listdir(path)\n",
    "\n",
    "count = 2\n",
    "for file in list_of_files:\n",
    "    if file.startswith('S2'):  # name as first word of the output file from Step 2\n",
    "        count = count\n",
    "        arcpy.AddField_management(r'S2_file_20{}.shp'.format(count), \"MgC\", \"DOUBLE\")\n",
    "        arcpy.CalculateField_management(r'S2_file_20{}.shp'.format(count), 'MgC', expression)\n",
    "        stats = arcpy.Statistics_analysis(r'S2_file_20{}.shp'.format(count),\\\n",
    "                                    r'S3_file_20{}'.format(count),\\ # name the file output for this step\n",
    "                                    [[\"MgC\", \"SUM\"]])\n",
    "        value = [row[0] for row in arcpy.da.SearchCursor(r'S3_file_20{}'.format(count), (field))]\n",
    "        print(\"20{}: \".format(count) + str(value))\n",
    "        count = count + 1"
   ]
  },
  {
   "cell_type": "raw",
   "metadata": {},
   "source": [
    "Using these values, we can calculate the total projected amount of carbon that will be accumulated over the project time period by subtracting the project end year from the project start year. "
   ]
  }
 ],
 "metadata": {
  "kernelspec": {
   "display_name": "Python 3",
   "language": "python",
   "name": "python3"
  },
  "language_info": {
   "codemirror_mode": {
    "name": "ipython",
    "version": 3
   },
   "file_extension": ".py",
   "mimetype": "text/x-python",
   "name": "python",
   "nbconvert_exporter": "python",
   "pygments_lexer": "ipython3",
   "version": "3.6.6"
  }
 },
 "nbformat": 4,
 "nbformat_minor": 2
}
