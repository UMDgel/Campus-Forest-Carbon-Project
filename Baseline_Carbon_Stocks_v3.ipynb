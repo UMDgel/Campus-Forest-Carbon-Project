{
  "nbformat": 4,
  "nbformat_minor": 0,
  "metadata": {
    "colab": {
      "provenance": []
    },
    "kernelspec": {
      "name": "python3",
      "display_name": "Python 3"
    },
    "language_info": {
      "name": "python"
    }
  },
  "cells": [
    {
      "cell_type": "code",
      "execution_count": null,
      "metadata": {
        "id": "aAcFwbuvDoVl"
      },
      "outputs": [],
      "source": [
        "#To set up your workspace, use your specified filepath\n",
        "#Be sure to change all directory and file names to your own"
      ]
    },
    {
      "cell_type": "code",
      "source": [
        "#Permit Google Colab to access files in google drive\n",
        "#Can either (1) mount using the following line of code or (2) set manually in left hand 'Files' panel if using Google Colaboratory\n",
        "from google.colab import drive\n",
        "drive.mount('/content/drive')"
      ],
      "metadata": {
        "id": "dgKjFlIuD1xq"
      },
      "execution_count": null,
      "outputs": []
    },
    {
      "cell_type": "code",
      "source": [
        "#Install packages \n",
        "!pip install geopandas\n",
        "!pip install rasterio\n",
        "!pip install rasterstats\n",
        "!pip install rioxarray"
      ],
      "metadata": {
        "id": "fAyp112VD76i"
      },
      "execution_count": null,
      "outputs": []
    },
    {
      "cell_type": "code",
      "source": [
        "#Import required libraries\n",
        "##Must be run each time session is started\n",
        "import glob \n",
        "import os \n",
        "import ogr\n",
        "import gdal, gdalconst \n",
        "\n",
        "import rasterio as rio\n",
        "from rasterio.plot import show\n",
        "import rasterstats \n",
        "import rioxarray\n",
        "import xarray\n",
        "from shapely.geometry import mapping\n",
        "\n",
        "import numpy as np \n",
        "import geopandas as gpd \n",
        "import matplotlib.pyplot as plt"
      ],
      "metadata": {
        "id": "904pO69jEAUh"
      },
      "execution_count": null,
      "outputs": []
    },
    {
      "cell_type": "markdown",
      "source": [
        "# Pre-2016 Carbon Stock"
      ],
      "metadata": {
        "id": "e6tYGboqIQS0"
      }
    },
    {
      "cell_type": "code",
      "source": [
        "# STEP 1 - Reproject layers to same resolution and projection\n",
        "filepath = '/content/drive/my_file_path/AGB_Years' ## file path of above ground biomass yearly files, filepath can be copied directly from google drive\n",
        "data = glob.glob(os.path.join(filepath, '*.tif')) # opens folder where files are saved\n",
        "\n",
        "for i, data_path in enumerate(data):\n",
        "  raster = gdal.Open(data_path, i) # open each raster \n",
        "  name = os.path.splitext(os.path.split(data_path)[1])[0] # retain names of input file\n",
        "  output_path = f'/content/drive/my_file_path/Processing/pre_{name}.tif' ## define outfile \n",
        "  gdal.Warp(output_path,raster,dstSRS='EPSG:26918', xRes = '30', yRes = '30') # reproject \n",
        "\n",
        "raster = None # close files "
      ],
      "metadata": {
        "id": "RuB9h82xH2EX"
      },
      "execution_count": null,
      "outputs": []
    },
    {
      "cell_type": "code",
      "source": [
        "# STEP 2 - Clip data layers to project boundary \n",
        "filepath = '/content/drive/Processing' ##file path of data where you saved the reprojected layers (Refer to output_path in step 2)\n",
        "data = glob.glob(os.path.join(filepath, '*.tif'))\n",
        "shp = '/content/drive/my_file_path/Project_Boundary' ## file path of project boundary (Project Boundary shapefile)\n",
        "\n",
        "for i, data_path in enumerate(data):\n",
        "  raster = gdal.Open(data_path, i) \n",
        "  name = os.path.splitext(os.path.split(data_path)[1])[0][4:13] # get original band names \n",
        "  output_path = f'/content/drive/my_file_path/Extraction/extract_{name}.tif' ## define outfile to save new layers\n",
        "  gdal.Warp(output_path, raster, cutlineDSName= shp,cropToCutline=True) # clip \n",
        "\n",
        "raster = None # close files"
      ],
      "metadata": {
        "id": "1zyPrSb5I2y6"
      },
      "execution_count": null,
      "outputs": []
    },
    {
      "cell_type": "code",
      "source": [
        "# STEP 3 - Extract AGB values from raster\n",
        "\n",
        "filepath = '/content/drive//my_file_path/Extraction' ## file path of data where you saved clipped layers (step 3)\n",
        "data = glob.glob(os.path.join(filepath, '*.tif'))\n",
        "\n",
        "for i, data_path in enumerate(data):\n",
        "  raster = rioxarray.open_rasterio(data_path, i)\n",
        "  raster = raster.where(raster >= -100) # mask out no data values \n",
        "  year = os.path.splitext(os.path.split(data_path)[1])[0][13:17] # get associated years\n",
        "  expression = (raster*900).sum()/1000 #unit conversion to Mg C\n",
        "  print(year, ':', expression.values) ## sort printed results sequentially in excel or similar software\n",
        "\n",
        "# can sort sequentially in excel "
      ],
      "metadata": {
        "id": "yHeN9aHDJ6Lf"
      },
      "execution_count": null,
      "outputs": []
    },
    {
      "cell_type": "code",
      "source": [
        "raster = None # close files "
      ],
      "metadata": {
        "id": "fgFzrUR6JCe2"
      },
      "execution_count": null,
      "outputs": []
    }
  ]
}